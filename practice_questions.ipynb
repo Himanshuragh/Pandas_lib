{
 "cells": [
  {
   "cell_type": "code",
   "execution_count": 2,
   "id": "56fea0e6-74c7-4fa7-b994-c997377ac0e1",
   "metadata": {},
   "outputs": [
    {
     "name": "stdin",
     "output_type": "stream",
     "text": [
      "enter your no 12\n"
     ]
    },
    {
     "name": "stdout",
     "output_type": "stream",
     "text": [
      "12 is positive\n"
     ]
    }
   ],
   "source": [
    "# check given no is positive\n",
    "n=int(input(\"enter your no\"))\n",
    "if(n>0):\n",
    "    print(f'{n} is positive')"
   ]
  },
  {
   "cell_type": "code",
   "execution_count": 5,
   "id": "89ba0118-2241-46c9-8357-d8cf2a1dee83",
   "metadata": {},
   "outputs": [
    {
     "name": "stdin",
     "output_type": "stream",
     "text": [
      "enter your no -2\n"
     ]
    },
    {
     "name": "stdout",
     "output_type": "stream",
     "text": [
      "-2 is negative\n"
     ]
    }
   ],
   "source": [
    "# check positive or negative\n",
    "n=int(input(\"enter your no\"))\n",
    "if(n>0): \n",
    "    print(f'{n} is positive')\n",
    "else:\n",
    "    print(f'{n} is negative')"
   ]
  },
  {
   "cell_type": "code",
   "execution_count": 8,
   "id": "dde680d3-1ec6-4ae9-9b27-e3cce4de6c25",
   "metadata": {},
   "outputs": [
    {
     "name": "stdin",
     "output_type": "stream",
     "text": [
      "enter your no 0\n"
     ]
    },
    {
     "name": "stdout",
     "output_type": "stream",
     "text": [
      "0 is zero\n"
     ]
    }
   ],
   "source": [
    "# check positive or negative\n",
    "n=int(input(\"enter your no\"))\n",
    "if(n>0): \n",
    "    print(f'{n} is positive')\n",
    "elif(n<0):\n",
    "    print(f'{n} is negative')\n",
    "else: \n",
    "    print(f'{n} is zero')"
   ]
  },
  {
   "cell_type": "code",
   "execution_count": 9,
   "id": "36e1efed-e36e-4461-a19c-e3d5ef44b166",
   "metadata": {},
   "outputs": [
    {
     "name": "stdin",
     "output_type": "stream",
     "text": [
      "enter 1st no 2\n",
      "enter 1st no 4\n"
     ]
    },
    {
     "name": "stdout",
     "output_type": "stream",
     "text": [
      "4\n",
      "2\n"
     ]
    }
   ],
   "source": [
    "# swap two variables without using third variable\n",
    "x= int(input(\"enter 1st no\"))\n",
    "y= int(input(\"enter 1st no\"))\n",
    "x,y=y,x\n",
    "print(x)\n",
    "print(y)"
   ]
  },
  {
   "cell_type": "code",
   "execution_count": 12,
   "id": "0f80c74d-d816-4472-9b92-01337156371e",
   "metadata": {},
   "outputs": [
    {
     "name": "stdin",
     "output_type": "stream",
     "text": [
      "enter 1st no 2\n",
      "enter 1st no 3\n"
     ]
    },
    {
     "name": "stdout",
     "output_type": "stream",
     "text": [
      "3\n",
      "2\n"
     ]
    }
   ],
   "source": [
    "#swap two variable using third variable\n",
    "x= int(input(\"enter 1st no\"))\n",
    "y= int(input(\"enter 1st no\"))\n",
    "z=x\n",
    "x=y\n",
    "y=z\n",
    "print(x)\n",
    "print(y)\n"
   ]
  },
  {
   "cell_type": "code",
   "execution_count": 14,
   "id": "8d65f4c8-779d-4610-b20f-44bb75927bc8",
   "metadata": {},
   "outputs": [
    {
     "name": "stdin",
     "output_type": "stream",
     "text": [
      "enter 1st no 2\n",
      "enter 1st no 3\n"
     ]
    },
    {
     "name": "stdout",
     "output_type": "stream",
     "text": [
      "2\n",
      "3\n"
     ]
    }
   ],
   "source": [
    "# swap two variable using adition and subtration\n",
    "x= int(input(\"enter 1st no\"))\n",
    "y= int(input(\"enter 1st no\"))\n",
    "x+y==z\n",
    "z-y==y\n",
    "z-x==x\n",
    "print(x)\n",
    "print(y)"
   ]
  },
  {
   "cell_type": "code",
   "execution_count": 19,
   "id": "7c521208-3899-4e68-b080-f858caae4597",
   "metadata": {},
   "outputs": [
    {
     "name": "stdin",
     "output_type": "stream",
     "text": [
      "enter 1st no 3\n",
      "enter 1st no 4\n",
      "enter 1st no 3\n"
     ]
    },
    {
     "name": "stdout",
     "output_type": "stream",
     "text": [
      "4 is greater\n"
     ]
    }
   ],
   "source": [
    "# largest no among three no\n",
    "x= int(input(\"enter 1st no\"))\n",
    "y= int(input(\"enter 1st no\"))\n",
    "z= int(input(\"enter 1st no\"))\n",
    "if(x>y):\n",
    "    print(f'{x} is greater')\n",
    "elif(z>y):\n",
    "    print(f'{z}is greater')\n",
    "else:\n",
    "    print(f'{y} is greater')"
   ]
  },
  {
   "cell_type": "code",
   "execution_count": null,
   "id": "539adaca-dc21-4cf9-ba0a-f211f9459c83",
   "metadata": {},
   "outputs": [],
   "source": [
    "# find area of triangle\n"
   ]
  }
 ],
 "metadata": {
  "kernelspec": {
   "display_name": "Python 3 (ipykernel)",
   "language": "python",
   "name": "python3"
  },
  "language_info": {
   "codemirror_mode": {
    "name": "ipython",
    "version": 3
   },
   "file_extension": ".py",
   "mimetype": "text/x-python",
   "name": "python",
   "nbconvert_exporter": "python",
   "pygments_lexer": "ipython3",
   "version": "3.12.7"
  }
 },
 "nbformat": 4,
 "nbformat_minor": 5
}
